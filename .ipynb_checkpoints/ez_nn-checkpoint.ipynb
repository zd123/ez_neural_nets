{
 "cells": [
  {
   "cell_type": "code",
   "execution_count": null,
   "metadata": {
    "collapsed": true
   },
   "outputs": [],
   "source": [
    "import numpy as np\n",
    "np.random.seed(69)\n",
    "\n",
    "# ACTUAL INPUT DATA\n",
    "X = np.array([[3,5], \n",
    "              [5,1], \n",
    "              [10,2]]\n",
    "            )\n",
    "\n",
    "# ACTUAL OUTPUT DATA\n",
    "y = np.array([[75], [82], [93]])\n",
    "\n",
    "\n",
    "input_layer_size = 2\n",
    "output_layer_size = 1\n",
    "hidden_layer_size = 3\n",
    "\n",
    "# Activation Function\n",
    "def sigmoid(z):\n",
    "    return 1 / ( 1+ np.exp(-z) )\n",
    "\n",
    "\n",
    "# input to hidden, init with random weights\n",
    "w1 = np.random.rand(input_layer_size, hidden_layer_size)\n",
    "\n",
    "# hidden to output, init with random weights\n",
    "w2 = np.random.rand(hidden_layer_size, output_layer_size)\n",
    "\n",
    "# (z2) matrix multiply input data with w1 weights\n",
    "hidden_nodes = X.dot(w1)\n",
    "\n",
    "# (a2) apply activation function to hidden layer\n",
    "hidden_nodes = sigmoid(hidden_nodes)\n",
    "\n",
    "# (z3) matrix multiply hidden_layer with w2 weights\n",
    "output_nodes = hidden_nodes.dot(w2)\n",
    "\n",
    "# (a3) apply activation function\n",
    "output_nodes = sigmoid(output_nodes)\n",
    "\n",
    "\n"
   ]
  },
  {
   "cell_type": "code",
   "execution_count": null,
   "metadata": {
    "collapsed": true
   },
   "outputs": [],
   "source": [
    "import numpy as np\n",
    "np.random.seed(69)\n",
    "X = np.array([[3,5], \n",
    "              [5,1], \n",
    "              [10,2]]\n",
    "            )\n",
    "y = np.array([[75], [82], [93]])\n",
    "\n",
    "\n",
    "input_layer_size = 2\n",
    "output_layer_size = 1\n",
    "hidden_layer_size = 3\n",
    "\n",
    "# Activation Function\n",
    "def sigmoid(z):\n",
    "    return 1 / ( 1+ np.exp(-z) )\n",
    "\n",
    "\n",
    "# input to hidden\n",
    "w1 = np.random.rand(input_layer_size, hidden_layer_size)\n",
    "hidden_layer = X.dot(w1)\n",
    "\n",
    "# apply activation function to hidden layer\n",
    "hidden_layer = sigmoid(hidden_layer)\n",
    "\n",
    "# hidden to output\n",
    "w2 = np.random.rand(hidden_layer_size, output_layer_size)\n",
    "output_layer = hidden_layer.dot(w2)\n",
    "\n",
    "output_layer = sigmoid(output_layer)\n"
   ]
  }
 ],
 "metadata": {
  "kernelspec": {
   "display_name": "Python 2",
   "language": "python",
   "name": "python2"
  },
  "language_info": {
   "codemirror_mode": {
    "name": "ipython",
    "version": 2
   },
   "file_extension": ".py",
   "mimetype": "text/x-python",
   "name": "python",
   "nbconvert_exporter": "python",
   "pygments_lexer": "ipython2",
   "version": "2.7.11"
  }
 },
 "nbformat": 4,
 "nbformat_minor": 0
}
